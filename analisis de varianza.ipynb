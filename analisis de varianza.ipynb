{
 "cells": [
  {
   "cell_type": "code",
   "execution_count": 1,
   "id": "2c072033",
   "metadata": {},
   "outputs": [],
   "source": [
    "import pandas as pd\n",
    "import numpy as np"
   ]
  },
  {
   "cell_type": "code",
   "execution_count": 2,
   "id": "71b2531b",
   "metadata": {},
   "outputs": [],
   "source": [
    "pd_vector = pd.DataFrame( { \"num\" : range(1,101) } )"
   ]
  },
  {
   "cell_type": "code",
   "execution_count": 3,
   "id": "34ec272b",
   "metadata": {},
   "outputs": [
    {
     "data": {
      "text/html": [
       "<div>\n",
       "<style scoped>\n",
       "    .dataframe tbody tr th:only-of-type {\n",
       "        vertical-align: middle;\n",
       "    }\n",
       "\n",
       "    .dataframe tbody tr th {\n",
       "        vertical-align: top;\n",
       "    }\n",
       "\n",
       "    .dataframe thead th {\n",
       "        text-align: right;\n",
       "    }\n",
       "</style>\n",
       "<table border=\"1\" class=\"dataframe\">\n",
       "  <thead>\n",
       "    <tr style=\"text-align: right;\">\n",
       "      <th></th>\n",
       "      <th>num</th>\n",
       "    </tr>\n",
       "  </thead>\n",
       "  <tbody>\n",
       "    <tr>\n",
       "      <th>0</th>\n",
       "      <td>1</td>\n",
       "    </tr>\n",
       "    <tr>\n",
       "      <th>1</th>\n",
       "      <td>2</td>\n",
       "    </tr>\n",
       "    <tr>\n",
       "      <th>2</th>\n",
       "      <td>3</td>\n",
       "    </tr>\n",
       "    <tr>\n",
       "      <th>3</th>\n",
       "      <td>4</td>\n",
       "    </tr>\n",
       "    <tr>\n",
       "      <th>4</th>\n",
       "      <td>5</td>\n",
       "    </tr>\n",
       "    <tr>\n",
       "      <th>...</th>\n",
       "      <td>...</td>\n",
       "    </tr>\n",
       "    <tr>\n",
       "      <th>95</th>\n",
       "      <td>96</td>\n",
       "    </tr>\n",
       "    <tr>\n",
       "      <th>96</th>\n",
       "      <td>97</td>\n",
       "    </tr>\n",
       "    <tr>\n",
       "      <th>97</th>\n",
       "      <td>98</td>\n",
       "    </tr>\n",
       "    <tr>\n",
       "      <th>98</th>\n",
       "      <td>99</td>\n",
       "    </tr>\n",
       "    <tr>\n",
       "      <th>99</th>\n",
       "      <td>100</td>\n",
       "    </tr>\n",
       "  </tbody>\n",
       "</table>\n",
       "<p>100 rows × 1 columns</p>\n",
       "</div>"
      ],
      "text/plain": [
       "    num\n",
       "0     1\n",
       "1     2\n",
       "2     3\n",
       "3     4\n",
       "4     5\n",
       "..  ...\n",
       "95   96\n",
       "96   97\n",
       "97   98\n",
       "98   99\n",
       "99  100\n",
       "\n",
       "[100 rows x 1 columns]"
      ]
     },
     "execution_count": 3,
     "metadata": {},
     "output_type": "execute_result"
    }
   ],
   "source": [
    "pd_vector"
   ]
  },
  {
   "cell_type": "code",
   "execution_count": 4,
   "id": "25a5f299",
   "metadata": {},
   "outputs": [
    {
     "data": {
      "text/plain": [
       "833.25"
      ]
     },
     "execution_count": 4,
     "metadata": {},
     "output_type": "execute_result"
    }
   ],
   "source": [
    "np.var( pd_vector[\"num\"] ) ## Calcula la varianza"
   ]
  },
  {
   "cell_type": "code",
   "execution_count": 5,
   "id": "ec9b2e3d",
   "metadata": {},
   "outputs": [
    {
     "data": {
      "text/plain": [
       "28.86607004772212"
      ]
     },
     "execution_count": 5,
     "metadata": {},
     "output_type": "execute_result"
    }
   ],
   "source": [
    "np.std( pd_vector[\"num\"] ) ## Calcula la desviacion estandard"
   ]
  },
  {
   "cell_type": "code",
   "execution_count": 16,
   "id": "524dba10",
   "metadata": {},
   "outputs": [],
   "source": [
    "q3 = np.quantile(pd_vector, 0.75)\n",
    "q1 = np.quantile(pd_vector, 0.25)\n",
    "q2 = np.quantile(pd_vector, 0.50)\n",
    "q4 = np.quantile(pd_vector, 1)"
   ]
  },
  {
   "cell_type": "code",
   "execution_count": 17,
   "id": "53d07a76",
   "metadata": {},
   "outputs": [],
   "source": [
    "iqr = q3-q1\n"
   ]
  },
  {
   "cell_type": "code",
   "execution_count": 18,
   "id": "d089b5e1",
   "metadata": {},
   "outputs": [],
   "source": [
    "uppen_bound = ( q3 + (1.5*iqr) )\n",
    "lower_bound = ( q3 - (1.5*iqr) )\n"
   ]
  },
  {
   "cell_type": "code",
   "execution_count": null,
   "id": "2d184492",
   "metadata": {},
   "outputs": [],
   "source": []
  }
 ],
 "metadata": {
  "kernelspec": {
   "display_name": "Python 3 (ipykernel)",
   "language": "python",
   "name": "python3"
  },
  "language_info": {
   "codemirror_mode": {
    "name": "ipython",
    "version": 3
   },
   "file_extension": ".py",
   "mimetype": "text/x-python",
   "name": "python",
   "nbconvert_exporter": "python",
   "pygments_lexer": "ipython3",
   "version": "3.9.12"
  }
 },
 "nbformat": 4,
 "nbformat_minor": 5
}
